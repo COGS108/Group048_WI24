{
 "cells": [
  {
   "cell_type": "markdown",
   "metadata": {},
   "source": [
    "**If you lost points on the last checkpoint you can get them back by responding to TA/IA feedback**  \n",
    "\n",
    "Update/change the relevant sections where you lost those points, make sure you respond on GitHub Issues to your TA/IA to call their attention to the changes you made here.\n",
    "\n",
    "Please update your Timeline... no battle plan survives contact with the enemy, so make sure we understand how your plans have changed."
   ]
  },
  {
   "cell_type": "markdown",
   "metadata": {},
   "source": [
    "# COGS 108 - Data Checkpoint"
   ]
  },
  {
   "cell_type": "markdown",
   "metadata": {},
   "source": [
    "# Names\n",
    "\n",
    "- Ryan Ding\n",
    "- Alfernie Fabricante\n",
    "- Grace Pei\n",
    "- Brendan Kuang\n",
    "- Clarence Chow"
   ]
  },
  {
   "cell_type": "markdown",
   "metadata": {},
   "source": [
    "# Research Question"
   ]
  },
  {
   "cell_type": "markdown",
   "metadata": {},
   "source": [
    "Which statistic most heavily influences an NBA player's salary at each given position? More specifically, is there some relationship between any single or combination of statistics and the amount in which an NBA player is paid?"
   ]
  },
  {
   "cell_type": "markdown",
   "metadata": {},
   "source": [
    "## Background and Prior Work"
   ]
  },
  {
   "cell_type": "markdown",
   "metadata": {},
   "source": [
    "The relationship between NBA players' salaries and their performance metrics has been a subject of interest among sports analysts, economists, and fans alike. Prior research has suggested that various factors, including player statistics, team success, market size, and even personal branding, can influence how much a player earns. However, the quantifiable performance metrics on the court often serve as a starting point for evaluating a player's worth.\n",
    "\n",
    "For instance, a study by Berri et al. (2007) found that traditional statistics such as points per game have a significant impact on NBA players' salaries, although these metrics may not always correlate with a player's contribution to team success<sup><a href=\"#Berri2007\">1</a></sup>. Another study by Groothuis and Hill (2004) suggested that while performance metrics are crucial, factors like player position and the role within the team also significantly affect salaries<sup><a href=\"#Groothuis2004\">2</a></sup>.\n",
    "\n",
    "Moreover, recent analyses have incorporated advanced metrics such as Player Efficiency Rating (PER) and Win Shares (WS) to assess a player's value more comprehensively. These advanced statistics aim to capture a player's overall impact on the game beyond traditional counting stats like points, rebounds, and assists. For example, Kahn (2006) highlighted the importance of these advanced metrics in determining players' salaries and pointed out that players contributing more to wins tend to earn higher salaries<sup><a href=\"#Kahn2006\">3</a></sup>.\n",
    "\n",
    "Given this background, our hypothesis posits that specific statistics heavily influence NBA players' salaries at each position. We propose that assists per game could be a critical factor for point guards, given their role in orchestrating the offense. For shooting guards, the 3-point shooting efficiency might be more valued due to the emphasis on scoring from beyond the arc in modern basketball. Small forwards, being versatile players, could see their salaries most influenced by their overall scoring ability, measured by points per game. For power forwards, field-goal percentage might be paramount due to their role in scoring from inside and mid-range. Lastly, for centers, defensive metrics such as blocks per game and rebounds per game could be vital, reflecting their role in protecting the rim and controlling the boards.\n",
    "\n",
    "<a name=\"Berri2007\">1</a>: Berri, D. J., Brook, S. L., & Fenn, A. J. (2007). The wages of wins: Taking measure of the many myths in modern sport. Stanford University Press. Link\n",
    "\n",
    "<a name=\"Groothuis2004\">2</a>: Groothuis, P. A., & Hill, J. R. (2004). The National Basketball Association. In The Sports Business in The Pacific Rim (pp. 133-144). Springer. Link\n",
    "\n",
    "<a name=\"Kahn2006\">3</a>: Kahn, L. M. (2006). The economics of the National Basketball Association. Sports Business Management: Decision Making Around the Globe. Link\n",
    "\n",
    "\n",
    "\n",
    "\n",
    "\n",
    "\n"
   ]
  },
  {
   "cell_type": "markdown",
   "metadata": {},
   "source": [
    "# Hypothesis\n"
   ]
  },
  {
   "cell_type": "markdown",
   "metadata": {},
   "source": [
    "We hypothesize that for each NBA position, there is at minimum one feature that contributes heavily to a player's salary.\n",
    "\n",
    "For points guards, we believe that assist-per-game is the most important metric that helps to determine a player's salary. We rationalize this with the belief that since point guards are known for facilitating ball movement around the court, their ability to find other players to score baskets for them makes them valuable.\n",
    "\n",
    "For shooting guards, we think that 3-point-percentage, or the percentage of shots made from behind the 3-point line, is the most important metric that determines a player's salary. This is because the position is geared towards scoring as many points as possible, and teams would want someone who is efficient in their shots and able to score from many positions on the floor.\n",
    "\n",
    "For small forwards, we believe that their points-per-game is the most important metric in determining their salary. As the most versatile position on the floor, their overall scoring ability, from jumpshots to three-pointers, seems to be the most valued.\n",
    "\n",
    "For power forwards, we claim that their field-goal-percentage is the most important factor in their salary. Playing closer to the basket, power forwards are notable for taking many jumpshots closer to the basket than that of their guard teammates. As a result, efficiency in these closer-range shots is kept most notable as it shows their offensive prowess at closer range than a shooting guard.\n",
    "\n",
    "For centers, we believe that there are two metrics of equal importance: blocks-per-game and rebounds-per-game. Centers are known for being the tallest person on the floor and the most inclined to grab missed shots or block an opponent from scoring on their basket. As a result, both of these features are highly sought after from centers."
   ]
  },
  {
   "cell_type": "markdown",
   "metadata": {},
   "source": [
    "# Data"
   ]
  },
  {
   "cell_type": "markdown",
   "metadata": {},
   "source": [
    "## Data overview\n",
    "\n",
    "For each dataset include the following information\n",
    "- Dataset #1\n",
    "  - Dataset Name: NBA Salaries from 2000-2020\n",
    "  - Link to the dataset: https://github.com/erikgregorywebb/datasets/blob/master/nba-salaries.csv\n",
    "  - Number of observations: 9457\n",
    "  - Number of variables: 6\n",
    "\n",
    "- Dataset #2\n",
    "  - Dataset Name: NBA Player Salaries 2022-23\n",
    "  - Link to the dataset: https://app.gigasheet.com/spreadsheet/nba-player-salaries-2022-23-season/44656fd5_6281_40aa_a81f_73275250d994\n",
    "  - Number of observations: 467\n",
    "  - Number of variables: 49\n",
    "\n",
    "**Dataset #1**\n",
    "This dataset lists a ranking of all NBA player's salary in a given season from the 2000 season all the way up to the 2020 season. There are six features that are included within each row, and each row corresponds to an observation of an NBA player in a given season. Features include: \n",
    "- NBA salary ranking relative to other players\n",
    "- Player name\n",
    "- Player position\n",
    "- Player team\n",
    "- Player salary\n",
    "- Season\n",
    "\n",
    "**Dataset #2**\n",
    "This dataset lists the statistics of every player in the 2022-23 NBA season, including their salary and positions. The datatypes of this dataset consist of strings for names and positions, and numbers for everything else. To clean this dataset we removed the columns that were irrelevant to this project, such as each player's team."
   ]
  },
  {
   "cell_type": "markdown",
   "metadata": {},
   "source": [
    "## NBA Salaries from 2000-2020"
   ]
  },
  {
   "cell_type": "code",
   "execution_count": 1,
   "metadata": {},
   "outputs": [
    {
     "ename": "ModuleNotFoundError",
     "evalue": "No module named 'scipy'",
     "output_type": "error",
     "traceback": [
      "\u001b[1;31m---------------------------------------------------------------------------\u001b[0m",
      "\u001b[1;31mModuleNotFoundError\u001b[0m                       Traceback (most recent call last)",
      "Cell \u001b[1;32mIn[1], line 3\u001b[0m\n\u001b[0;32m      1\u001b[0m \u001b[38;5;28;01mimport\u001b[39;00m \u001b[38;5;21;01mpandas\u001b[39;00m \u001b[38;5;28;01mas\u001b[39;00m \u001b[38;5;21;01mpd\u001b[39;00m\n\u001b[0;32m      2\u001b[0m \u001b[38;5;28;01mimport\u001b[39;00m \u001b[38;5;21;01mnumpy\u001b[39;00m \u001b[38;5;28;01mas\u001b[39;00m \u001b[38;5;21;01mnp\u001b[39;00m\n\u001b[1;32m----> 3\u001b[0m \u001b[38;5;28;01mimport\u001b[39;00m \u001b[38;5;21;01mscipy\u001b[39;00m\n\u001b[0;32m      4\u001b[0m \u001b[38;5;28;01mimport\u001b[39;00m \u001b[38;5;21;01mseaborn\u001b[39;00m \u001b[38;5;28;01mas\u001b[39;00m \u001b[38;5;21;01msns\u001b[39;00m\n\u001b[0;32m      5\u001b[0m \u001b[38;5;28;01mimport\u001b[39;00m \u001b[38;5;21;01mmatplotlib\u001b[39;00m\u001b[38;5;21;01m.\u001b[39;00m\u001b[38;5;21;01mpyplot\u001b[39;00m \u001b[38;5;28;01mas\u001b[39;00m \u001b[38;5;21;01mplt\u001b[39;00m\n",
      "\u001b[1;31mModuleNotFoundError\u001b[0m: No module named 'scipy'"
     ]
    }
   ],
   "source": [
    "import pandas as pd\n",
    "import numpy as np\n",
    "import scipy\n",
    "import seaborn as sns\n",
    "import matplotlib.pyplot as plt\n",
    "\n",
    "df1 = pd.read_csv('datasets/nba-salaries.csv')\n",
    "features = df1.columns\n",
    "print('Features: ', features)\n",
    "\n",
    "print('\\nDescription of Data:')\n",
    "print(df1.describe())\n",
    "print('\\nThe table itself!')\n",
    "display(df1)\n",
    "\n",
    "print('\\nDifferent Player Positions and their Counts:', df1['position'].value_counts())\n",
    "\n",
    "# As can be seen by the data, we have lots of players who are not listed at one specific of the five positions\n",
    "# For instance, some players are listed as forwards (meaning they either play small forward or power forward)\n",
    "# Others are listed as guards (meaning either point guard or shooting guard)\n",
    "# On top of this, there are players who are listed as NA, which we need to investigate, and a single GF?!?\n",
    "# (Another note: there is a weird formatting error in which there is whitespace before position, we will also clean that up!)\n",
    "who_is_gf = df1[df1['position']==' GF']\n",
    "who_is_gf\n",
    "\n",
    "# As we see, someone named Jiri Welsh is listed as the only GF in the file. Upon further investigation, he played both a guard and forward position\n",
    "# Which makes sense as to why he is labelled as GF! However, based on the NBA website, he is listed as a forward and will be treated as such during\n",
    "# analysis.\n",
    "def standardize_position(str_in):\n",
    "    str_in = str_in.strip()\n",
    "    str_in = str_in.lower()\n",
    "    if str_in == 'gf':\n",
    "        str_in = 'f' # Context provided based solely on Jiri!\n",
    "    return str_in\n",
    "\n",
    "# We have, for the time being, fixed up the GF issue!\n",
    "df1['position'] = df1['position'].apply(standardize_position)\n",
    "df1['position'].value_counts()\n",
    "\n",
    "# We have all these na values in the DataFrame! How are we going to clean it up?\n",
    "all_na = df1[df1['position']=='na']\n",
    "all_na\n",
    "\n",
    "# Looking at just a few of the observations of an na player, it can be seen that reasons vary widely as to why\n",
    "# they seem to be listed as an na position. For instance, Deron Washington, despite having a listed salary in 2013,\n",
    "# played overseas that year. Another playing, Tu Holloway, had a brief G-League stint and also played overseas. As a\n",
    "# result, instead of manually seeing what each player was doing and the fact that many of them were not in the NBA at the time\n",
    "# it is easiest and most fitting to drop such players.\n",
    "def drop_helper(str_in):\n",
    "    str_in = str_in.lower()\n",
    "    str_in = str_in.strip()\n",
    "    if str_in == 'na':\n",
    "        return None\n",
    "    return str_in\n",
    "\n",
    "df1['position'] = df1['position'].apply(drop_helper)\n",
    "df1 = df1.dropna(subset='position')\n",
    "df1['position'].value_counts()\n",
    "\n",
    "print('Our new countplot visual for positions!')\n",
    "sns.countplot(data=df1, x='position')"
   ]
  },
  {
   "cell_type": "markdown",
   "metadata": {},
   "source": [
    "## NBA Player Salaries 2022-23"
   ]
  },
  {
   "cell_type": "code",
   "execution_count": 18,
   "metadata": {},
   "outputs": [
    {
     "name": "stdout",
     "output_type": "stream",
     "text": [
      "Number of variables: 49\n",
      "Number of observations: 467\n"
     ]
    },
    {
     "data": {
      "text/html": [
       "<div>\n",
       "<style scoped>\n",
       "    .dataframe tbody tr th:only-of-type {\n",
       "        vertical-align: middle;\n",
       "    }\n",
       "\n",
       "    .dataframe tbody tr th {\n",
       "        vertical-align: top;\n",
       "    }\n",
       "\n",
       "    .dataframe thead th {\n",
       "        text-align: right;\n",
       "    }\n",
       "</style>\n",
       "<table border=\"1\" class=\"dataframe\">\n",
       "  <thead>\n",
       "    <tr style=\"text-align: right;\">\n",
       "      <th></th>\n",
       "      <th>Player Name</th>\n",
       "      <th>Salary</th>\n",
       "      <th>Position</th>\n",
       "      <th>GP</th>\n",
       "      <th>GS</th>\n",
       "      <th>MP</th>\n",
       "      <th>FG</th>\n",
       "      <th>FGA</th>\n",
       "      <th>FG%</th>\n",
       "      <th>3P</th>\n",
       "      <th>...</th>\n",
       "      <th>TOV%</th>\n",
       "      <th>USG%</th>\n",
       "      <th>OWS</th>\n",
       "      <th>DWS</th>\n",
       "      <th>WS</th>\n",
       "      <th>WS/48</th>\n",
       "      <th>OBPM</th>\n",
       "      <th>DBPM</th>\n",
       "      <th>BPM</th>\n",
       "      <th>VORP</th>\n",
       "    </tr>\n",
       "  </thead>\n",
       "  <tbody>\n",
       "    <tr>\n",
       "      <th>0</th>\n",
       "      <td>Stephen Curry</td>\n",
       "      <td>48070014</td>\n",
       "      <td>PG</td>\n",
       "      <td>56</td>\n",
       "      <td>56</td>\n",
       "      <td>34.7</td>\n",
       "      <td>10.0</td>\n",
       "      <td>20.2</td>\n",
       "      <td>0.493</td>\n",
       "      <td>4.9</td>\n",
       "      <td>...</td>\n",
       "      <td>12.5</td>\n",
       "      <td>31.0</td>\n",
       "      <td>5.8</td>\n",
       "      <td>2.0</td>\n",
       "      <td>7.8</td>\n",
       "      <td>0.192</td>\n",
       "      <td>7.5</td>\n",
       "      <td>0.1</td>\n",
       "      <td>7.5</td>\n",
       "      <td>4.7</td>\n",
       "    </tr>\n",
       "    <tr>\n",
       "      <th>1</th>\n",
       "      <td>John Wall</td>\n",
       "      <td>47345760</td>\n",
       "      <td>PG</td>\n",
       "      <td>34</td>\n",
       "      <td>3</td>\n",
       "      <td>22.2</td>\n",
       "      <td>4.1</td>\n",
       "      <td>9.9</td>\n",
       "      <td>0.408</td>\n",
       "      <td>1.0</td>\n",
       "      <td>...</td>\n",
       "      <td>17.1</td>\n",
       "      <td>27.0</td>\n",
       "      <td>-0.4</td>\n",
       "      <td>0.7</td>\n",
       "      <td>0.3</td>\n",
       "      <td>0.020</td>\n",
       "      <td>-0.8</td>\n",
       "      <td>-0.4</td>\n",
       "      <td>-1.2</td>\n",
       "      <td>0.1</td>\n",
       "    </tr>\n",
       "    <tr>\n",
       "      <th>2</th>\n",
       "      <td>Russell Westbrook</td>\n",
       "      <td>47080179</td>\n",
       "      <td>PG</td>\n",
       "      <td>73</td>\n",
       "      <td>24</td>\n",
       "      <td>29.1</td>\n",
       "      <td>5.9</td>\n",
       "      <td>13.6</td>\n",
       "      <td>0.436</td>\n",
       "      <td>1.2</td>\n",
       "      <td>...</td>\n",
       "      <td>18.4</td>\n",
       "      <td>27.7</td>\n",
       "      <td>-0.6</td>\n",
       "      <td>2.6</td>\n",
       "      <td>1.9</td>\n",
       "      <td>0.044</td>\n",
       "      <td>0.3</td>\n",
       "      <td>-0.1</td>\n",
       "      <td>0.2</td>\n",
       "      <td>1.2</td>\n",
       "    </tr>\n",
       "    <tr>\n",
       "      <th>3</th>\n",
       "      <td>LeBron James</td>\n",
       "      <td>44474988</td>\n",
       "      <td>PF</td>\n",
       "      <td>55</td>\n",
       "      <td>54</td>\n",
       "      <td>35.5</td>\n",
       "      <td>11.1</td>\n",
       "      <td>22.2</td>\n",
       "      <td>0.500</td>\n",
       "      <td>2.2</td>\n",
       "      <td>...</td>\n",
       "      <td>11.6</td>\n",
       "      <td>33.3</td>\n",
       "      <td>3.2</td>\n",
       "      <td>2.4</td>\n",
       "      <td>5.6</td>\n",
       "      <td>0.138</td>\n",
       "      <td>5.5</td>\n",
       "      <td>0.6</td>\n",
       "      <td>6.1</td>\n",
       "      <td>4.0</td>\n",
       "    </tr>\n",
       "    <tr>\n",
       "      <th>4</th>\n",
       "      <td>Kevin Durant</td>\n",
       "      <td>44119845</td>\n",
       "      <td>PF</td>\n",
       "      <td>47</td>\n",
       "      <td>47</td>\n",
       "      <td>35.6</td>\n",
       "      <td>10.3</td>\n",
       "      <td>18.3</td>\n",
       "      <td>0.560</td>\n",
       "      <td>2.0</td>\n",
       "      <td>...</td>\n",
       "      <td>13.4</td>\n",
       "      <td>30.7</td>\n",
       "      <td>4.7</td>\n",
       "      <td>2.1</td>\n",
       "      <td>6.8</td>\n",
       "      <td>0.194</td>\n",
       "      <td>6.0</td>\n",
       "      <td>1.2</td>\n",
       "      <td>7.1</td>\n",
       "      <td>3.9</td>\n",
       "    </tr>\n",
       "  </tbody>\n",
       "</table>\n",
       "<p>5 rows × 49 columns</p>\n",
       "</div>"
      ],
      "text/plain": [
       "         Player Name    Salary Position  GP  GS    MP    FG   FGA    FG%   3P  \\\n",
       "0      Stephen Curry  48070014       PG  56  56  34.7  10.0  20.2  0.493  4.9   \n",
       "1          John Wall  47345760       PG  34   3  22.2   4.1   9.9  0.408  1.0   \n",
       "2  Russell Westbrook  47080179       PG  73  24  29.1   5.9  13.6  0.436  1.2   \n",
       "3       LeBron James  44474988       PF  55  54  35.5  11.1  22.2  0.500  2.2   \n",
       "4       Kevin Durant  44119845       PF  47  47  35.6  10.3  18.3  0.560  2.0   \n",
       "\n",
       "   ...  TOV%  USG%  OWS  DWS   WS  WS/48  OBPM  DBPM  BPM  VORP  \n",
       "0  ...  12.5  31.0  5.8  2.0  7.8  0.192   7.5   0.1  7.5   4.7  \n",
       "1  ...  17.1  27.0 -0.4  0.7  0.3  0.020  -0.8  -0.4 -1.2   0.1  \n",
       "2  ...  18.4  27.7 -0.6  2.6  1.9  0.044   0.3  -0.1  0.2   1.2  \n",
       "3  ...  11.6  33.3  3.2  2.4  5.6  0.138   5.5   0.6  6.1   4.0  \n",
       "4  ...  13.4  30.7  4.7  2.1  6.8  0.194   6.0   1.2  7.1   3.9  \n",
       "\n",
       "[5 rows x 49 columns]"
      ]
     },
     "execution_count": 18,
     "metadata": {},
     "output_type": "execute_result"
    }
   ],
   "source": [
    "df2 = pd.read_csv('datasets/NBA_Player_Salaries_2022-23.csv')\n",
    "df2 = df2.drop(['Unnamed: 0', 'Age', 'Team'], axis=1)\n",
    "print(\"Number of variables:\", df2.shape[1])\n",
    "print(\"Number of observations:\", df2.shape[0])\n",
    "df2.head()"
   ]
  },
  {
   "cell_type": "markdown",
   "metadata": {},
   "source": [
    "# Ethics & Privacy"
   ]
  },
  {
   "cell_type": "markdown",
   "metadata": {},
   "source": [
    "* In our research of NBA players' salaries and the contributing factors that affect them, we have several ethical considerations, including biases, privacy, and terms of use . Our datasets may carry biases, such as the representation and data collection methods. For example, they might disproportionately represent star players or those have larger markets, skewing  the analysis towards higher salaries and therefore overlooking players having smaller markets.  Furthermore, the method of data collection and historical context might embed systemic biases into the datasets, such as disparities in pay due to factors unrelated to performance. \n",
    "* To address these challenges, we plan to employ a comprehensive approach to identify potential biases in our datasets. This includes statistical analysis to uncover overrepresentation or underrepresentation of certain groups, cross-referencing data from multiple sources to validate findings, and conducting sensitivity analyses to understand the impact of potential biases on our conclusions. Throughout the research process, we will be careful for biases, continuously assessing our data and methods for any signs of inequity. We will carefully review the terms of use of each dataset to ensure compliance with its guidelines. Our analysis will focus on aggregated data to minimize privacy risks, and any sensitive or potentially identifiable information will be treated with extreme care. We also consider the ethical implications of our findings and how they are communicated to ensure that we do not inadvertently compromise player privacy or misrepresent data.\n",
    "* To ensure a fair analysis, we will strive to include a large variety of players in our research, taking into account variables such as position, tenure, and market size. This inclusivity helps reduce the risk of drawing conclusions that only reflect the experiences of the most visible or highest-paid players. By addressing these ethical issues, we aim to ensure that our research is responsible and produces insights that are not only valuable to understanding the NBA's salary dynamics, but also respect the privacy of the players represented in our dataset."
   ]
  },
  {
   "cell_type": "markdown",
   "metadata": {},
   "source": [
    "# Team Expectations "
   ]
  },
  {
   "cell_type": "markdown",
   "metadata": {},
   "source": [
    "* Open communication between group members; Respond promptly to messages\n",
    "* Input and collaboration from all members on each aspect of the project\n",
    "* Attend all scheduled meetings; Complete work assigned to be completed before meetings\n",
    "* Remain flexible to any necessary changes to scheduling or task assignment\n",
    "* Maintain previously stated ethical standards while working on the project\n",
    "* Maintain high quality of work on all aspects of the project"
   ]
  },
  {
   "cell_type": "markdown",
   "metadata": {},
   "source": [
    "# Project Timeline Proposal"
   ]
  },
  {
   "cell_type": "markdown",
   "metadata": {},
   "source": [
    "| Meeting Date  | Meeting Time| Completed Before Meeting  | Discuss at Meeting |\n",
    "|---|---|---|---|\n",
    "| 2/11  | 12 PM  | Read & Think about COGS 108 expectations; brainstorm topics/questions  | Determine best form of communication; Discuss and decide on final project topic; discuss hypothesis; complete Project Proposal | \n",
    "| 2/18  | 12 PM  |  Finish individual background research on topic; Search for datasets | Discuss ideal dataset(s) and ethics | \n",
    "| 2/25  | 12 PM  | Import & Wrangle Data | Discuss analytical approaches; Complete Checkpoint #1  |\n",
    "| 3/03  | 12 PM  | EDA | Review/Edit wrangling/EDA; Discuss Analysis Plan   |\n",
    "| 3/10  | 12 PM  | Finalize wrangling/EDA; Begin Analysis | Discuss/edit Analysis; Complete Checkpoint #2 |\n",
    "| 3/17  | 12 PM  | Complete analysis; Draft results/conclusion/discussion | Discuss/edit full project; Assign final tasks |\n",
    "| 3/20  | 12 PM  | Hopefully full project finished | Turn in Final Project & Group Project Surveys |"
   ]
  }
 ],
 "metadata": {
  "kernelspec": {
   "display_name": "Python 3 (ipykernel)",
   "language": "python",
   "name": "python3"
  },
  "language_info": {
   "codemirror_mode": {
    "name": "ipython",
    "version": 3
   },
   "file_extension": ".py",
   "mimetype": "text/x-python",
   "name": "python",
   "nbconvert_exporter": "python",
   "pygments_lexer": "ipython3",
   "version": "3.11.8"
  }
 },
 "nbformat": 4,
 "nbformat_minor": 4
}
