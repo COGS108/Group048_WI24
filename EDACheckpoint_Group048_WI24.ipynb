{
 "cells": [
  {
   "cell_type": "markdown",
   "metadata": {},
   "source": [
    "**If you lost points on the last checkpoint you can get them back by responding to TA/IA feedback**  \n",
    "\n",
    "Update/change the relevant sections where you lost those points, make sure you respond on GitHub Issues to your TA/IA to call their attention to the changes you made here.\n",
    "\n",
    "Please update your Timeline... no battle plan survives contact with the enemy, so make sure we understand how your plans have changed."
   ]
  },
  {
   "cell_type": "markdown",
   "metadata": {},
   "source": [
    "# COGS 108 - EDA Checkpoint"
   ]
  },
  {
   "cell_type": "markdown",
   "metadata": {},
   "source": [
    "# Names\n",
    "\n",
    "- Ryan Ding\n",
    "- Alfernie Fabricante\n",
    "- Grace Pei\n",
    "- Brendan Kuang\n",
    "- Clarence Chow"
   ]
  },
  {
   "cell_type": "markdown",
   "metadata": {},
   "source": [
    "# Research Question"
   ]
  },
  {
   "cell_type": "markdown",
   "metadata": {},
   "source": [
    "Which statistic most heavily influences an NBA player's salary at each given position? More specifically, is there some relationship between any single or combination of statistics and the amount in which an NBA player is paid?\n"
   ]
  },
  {
   "cell_type": "markdown",
   "metadata": {},
   "source": [
    "## Background and Prior Work"
   ]
  },
  {
   "cell_type": "markdown",
   "metadata": {},
   "source": [
    "The relationship between NBA players' salaries and their performance metrics has been a subject of interest among sports analysts, economists, and fans alike. Prior research has suggested that various factors, including player statistics, team success, market size, and even personal branding, can influence how much a player earns. However, the quantifiable performance metrics on the court often serve as a starting point for evaluating a player's worth.\n",
    "\n",
    "For instance, a study by Berri et al. (2007) found that traditional statistics such as points per game have a significant impact on NBA players' salaries, although these metrics may not always correlate with a player's contribution to team success<sup><a href=\"#Berri2007\">1</a></sup>. Another study by Groothuis and Hill (2004) suggested that while performance metrics are crucial, factors like player position and the role within the team also significantly affect salaries<sup><a href=\"#Groothuis2004\">2</a></sup>.\n",
    "\n",
    "Moreover, recent analyses have incorporated advanced metrics such as Player Efficiency Rating (PER) and Win Shares (WS) to assess a player's value more comprehensively. These advanced statistics aim to capture a player's overall impact on the game beyond traditional counting stats like points, rebounds, and assists. For example, Kahn (2006) highlighted the importance of these advanced metrics in determining players' salaries and pointed out that players contributing more to wins tend to earn higher salaries<sup><a href=\"#Kahn2006\">3</a></sup>.\n",
    "\n",
    "Given this background, our hypothesis posits that specific statistics heavily influence NBA players' salaries at each position. We propose that assists per game could be a critical factor for point guards, given their role in orchestrating the offense. For shooting guards, the 3-point shooting efficiency might be more valued due to the emphasis on scoring from beyond the arc in modern basketball. Small forwards, being versatile players, could see their salaries most influenced by their overall scoring ability, measured by points per game. For power forwards, field-goal percentage might be paramount due to their role in scoring from inside and mid-range. Lastly, for centers, defensive metrics such as blocks per game and rebounds per game could be vital, reflecting their role in protecting the rim and controlling the boards.\n",
    "\n",
    "<a name=\"Berri2007\">1</a>: Berri, D. J., Brook, S. L., & Fenn, A. J. (2007). The wages of wins: Taking measure of the many myths in modern sport. Stanford University Press. Link\n",
    "\n",
    "<a name=\"Groothuis2004\">2</a>: Groothuis, P. A., & Hill, J. R. (2004). The National Basketball Association. In The Sports Business in The Pacific Rim (pp. 133-144). Springer. Link\n",
    "\n",
    "<a name=\"Kahn2006\">3</a>: Kahn, L. M. (2006). The economics of the National Basketball Association. Sports Business Management: Decision Making Around the Globe. Link\n",
    "\n",
    "\n",
    "\n",
    "\n",
    "\n",
    "\n"
   ]
  },
  {
   "cell_type": "markdown",
   "metadata": {},
   "source": [
    "# Hypothesis\n"
   ]
  },
  {
   "cell_type": "markdown",
   "metadata": {},
   "source": [
    "We hypothesize that for each NBA position, there is at minimum one feature that contributes heavily to a player's salary.\n",
    "\n",
    "For points guards, we believe that assist-per-game is the most important metric that helps to determine a player's salary. We rationalize this with the belief that since point guards are known for facilitating ball movement around the court, their ability to find other players to score baskets for them makes them valuable.\n",
    "\n",
    "For shooting guards, we think that 3-point-percentage, or the percentage of shots made from behind the 3-point line, is the most important metric that determines a player's salary. This is because the position is geared towards scoring as many points as possible, and teams would want someone who is efficient in their shots and able to score from many positions on the floor.\n",
    "\n",
    "For small forwards, we believe that their points-per-game is the most important metric in determining their salary. As the most versatile position on the floor, their overall scoring ability, from jumpshots to three-pointers, seems to be the most valued.\n",
    "\n",
    "For power forwards, we claim that their field-goal-percentage is the most important factor in their salary. Playing closer to the basket, power forwards are notable for taking many jumpshots closer to the basket than that of their guard teammates. As a result, efficiency in these closer-range shots is kept most notable as it shows their offensive prowess at closer range than a shooting guard.\n",
    "\n",
    "For centers, we believe that there are two metrics of equal importance: blocks-per-game and rebounds-per-game. Centers are known for being the tallest person on the floor and the most inclined to grab missed shots or block an opponent from scoring on their basket. As a result, both of these features are highly sought after from centers."
   ]
  },
  {
   "cell_type": "markdown",
   "metadata": {},
   "source": [
    "# Data"
   ]
  },
  {
   "cell_type": "markdown",
   "metadata": {},
   "source": [
    "## Data overview\n",
    "\n",
    "For each dataset include the following information\n",
    "- Dataset #1\n",
    "  - Dataset Name: NBA Salaries from 2000-2020\n",
    "  - Link to the dataset: https://github.com/erikgregorywebb/datasets/blob/master/nba-salaries.csv\n",
    "  - Number of observations: 9457\n",
    "  - Number of variables: 6\n",
    "\n",
    "- Dataset #2\n",
    "  - Dataset Name: NBA Player Salaries 2022-23\n",
    "  - Link to the dataset: https://app.gigasheet.com/spreadsheet/nba-player-salaries-2022-23-season/44656fd5_6281_40aa_a81f_73275250d994\n",
    "  - Number of observations: 467\n",
    "  - Number of variables: 49\n",
    "\n",
    "**Dataset #1**\n",
    "This dataset lists a ranking of all NBA player's salary in a given season from the 2000 season all the way up to the 2020 season. There are six features that are included within each row, and each row corresponds to an observation of an NBA player in a given season. Features include: \n",
    "- NBA salary ranking relative to other players\n",
    "- Player name\n",
    "- Player position\n",
    "- Player team\n",
    "- Player salary\n",
    "- Season\n",
    "\n",
    "**Dataset #2**\n",
    "This dataset lists the statistics of every player in the 2022-23 NBA season, including their salary and positions. The datatypes of this dataset consist of strings for names and positions, and numbers for everything else. To clean this dataset we removed the columns that were irrelevant to this project, such as each player's team."
   ]
  },
  {
   "cell_type": "markdown",
   "metadata": {},
   "source": [
    "## Dataset #1 NBA Salaries from 2000-2020\n"
   ]
  },
  {
   "cell_type": "code",
   "execution_count": null,
   "metadata": {},
   "outputs": [
    {
     "ename": "",
     "evalue": "",
     "output_type": "error",
     "traceback": [
      "\u001b[1;31mThe kernel failed to start as a dll could not be loaded.\n",
      "\u001b[1;31mClick <a href='https://aka.ms/kernelFailuresDllLoad'>here</a> for more info."
     ]
    }
   ],
   "source": [
    "import pandas as pd\n",
    "import numpy as np\n",
    "import scipy\n",
    "import seaborn as sns\n",
    "import matplotlib.pyplot as plt\n",
    "\n",
    "df1 = pd.read_csv('nba-salaries.csv')\n",
    "features = df1.columns\n",
    "print('Features: ', features)\n",
    "\n",
    "print('\\nDescription of Data:')\n",
    "print(df1.describe())\n",
    "print('\\nThe table itself!')\n",
    "display(df1)\n",
    "\n",
    "print('\\nDifferent Player Positions and their Counts:', df1['position'].value_counts())\n",
    "\n",
    "# As can be seen by the data, we have lots of players who are not listed at one specific of the five positions\n",
    "# For instance, some players are listed as forwards (meaning they either play small forward or power forward)\n",
    "# Others are listed as guards (meaning either point guard or shooting guard)\n",
    "# On top of this, there are players who are listed as NA, which we need to investigate, and a single GF?!?\n",
    "# (Another note: there is a weird formatting error in which there is whitespace before position, we will also clean that up!)\n",
    "who_is_gf = df1[df1['position']==' GF']\n",
    "who_is_gf\n",
    "\n",
    "# As we see, someone named Jiri Welsh is listed as the only GF in the file. Upon further investigation, he played both a guard and forward position\n",
    "# Which makes sense as to why he is labelled as GF! However, based on the NBA website, he is listed as a forward and will be treated as such during\n",
    "# analysis.\n",
    "def standardize_position(str_in):\n",
    "    str_in = str_in.strip()\n",
    "    str_in = str_in.lower()\n",
    "    if str_in == 'gf':\n",
    "        str_in = 'f' # Context provided based solely on Jiri!\n",
    "    return str_in\n",
    "\n",
    "# We have, for the time being, fixed up the GF issue!\n",
    "df1['position'] = df1['position'].apply(standardize_position)\n",
    "df1['position'].value_counts()\n",
    "\n",
    "# We have all these na values in the DataFrame! How are we going to clean it up?\n",
    "all_na = df1[df1['position']=='na']\n",
    "all_na\n",
    "\n",
    "# Looking at just a few of the observations of an na player, it can be seen that reasons vary widely as to why\n",
    "# they seem to be listed as an na position. For instance, Deron Washington, despite having a listed salary in 2013,\n",
    "# played overseas that year. Another playing, Tu Holloway, had a brief G-League stint and also played overseas. As a\n",
    "# result, instead of manually seeing what each player was doing and the fact that many of them were not in the NBA at the time\n",
    "# it is easiest and most fitting to drop such players.\n",
    "def drop_helper(str_in):\n",
    "    str_in = str_in.lower()\n",
    "    str_in = str_in.strip()\n",
    "    if str_in == 'na':\n",
    "        return None\n",
    "    return str_in\n",
    "\n",
    "df1['position'] = df1['position'].apply(drop_helper)\n",
    "df1 = df1.dropna(subset='position')\n",
    "df1['position'].value_counts()\n",
    "\n",
    "print('Our new countplot visual for positions!')\n",
    "sns.countplot(data=df1, x='position')"
   ]
  },
  {
   "cell_type": "markdown",
   "metadata": {},
   "source": [
    "## Dataset #2 NBA Player Salaries 2022-23"
   ]
  },
  {
   "cell_type": "code",
   "execution_count": null,
   "metadata": {},
   "outputs": [],
   "source": [
    "df2 = pd.read_csv('NBA_Player_Salaries_2022-23.csv')\n",
    "df2 = df2.drop(['Unnamed: 0', 'Age', 'Team'], axis=1)\n",
    "print(\"Number of variables:\", df2.shape[1])\n",
    "print(\"Number of observations:\", df2.shape[0])\n",
    "df2.head()"
   ]
  },
  {
   "cell_type": "markdown",
   "metadata": {},
   "source": [
    "# Results\n",
    "\n",
    "## Exploratory Data Analysis\n",
    "\n",
    "Carry out whatever EDA you need to for your project.  Because every project will be different we can't really give you much of a template at this point. But please make sure you describe the what and why in text here as well as providing interpretation of results and context."
   ]
  },
  {
   "cell_type": "markdown",
   "metadata": {},
   "source": [
    "### EDA - NBA Salaries for the 2022-2023 Season\n",
    "\n",
    "Due to the fact that it would require a lengthy amount of data preprocessing and consolidation to merge the historical salary datasets and a recent season of NBA player salaries, we are going to be focusing on the second dataset for this task."
   ]
  },
  {
   "cell_type": "code",
   "execution_count": null,
   "metadata": {},
   "outputs": [],
   "source": [
    "## First, we want to plot the distribution of player salaries across all positions for the given season\n",
    "sns.histplot(data=df2, x='Salary')\n",
    "\n",
    "# We also want to plot the distribution of relevant statistics amongst all players for an insight if there are any general trends across all positions that contribute to a player's salary\n",
    "# For clarity, we want to analyze the following features in the CSV, as they are the most reflective of all the data in the table\n",
    "# Additionally, we want to omit some of the statistics that are calculated by the NBA, such as PER, TS%, and others as these statistics are not directly reflective of a player's performance but rather the NBA's own numerical analysis of such\n",
    "# We are including: GP (Games Played), GS (Games Started), MP (Minutes Played), FG% (Field Goal Percentage), 3P% (3-Point Percentage), eFG% (Effective Field Goal), FT% (Free Throw Percentage), TRB (Total Rebounds per Game), AST (Assists per Game), STL (Steals per Game), BLK (Blocks per Game), TOV (Turnover per Game), PTS (Points per Game)\n",
    "\n",
    "\n",
    "# Groupmate's code here: preferably generate a seaborn heatmap to plot an entire graph of all these relationships against one another\n",
    "# Also, we want to see the general distribution of these statistics across all players\n",
    "\n",
    "\n",
    "# Next, we want to split the DataFrame\n",
    "# Do the same thing we did above for the general players, but with all 5 positions\n",
    "\n",
    "\n",
    "# Finally, for further validity, we can use predictive modeling to see which feature influences the target (a player salary) by seeing which one leads to the highest coefficient (beta)\n",
    "# Basically, we can do the Multi-LinReg taught in lecture or other more complex models\n"
   ]
  },
  {
   "cell_type": "markdown",
   "metadata": {},
   "source": [
    "### Section 2 of EDA if you need it  - please give it a better title than this\n",
    "\n",
    "Some more words and stuff.  Remember notebooks work best if you interleave the code that generates a result with properly annotate figures and text that puts these results into context."
   ]
  },
  {
   "cell_type": "code",
   "execution_count": null,
   "metadata": {},
   "outputs": [],
   "source": [
    "## YOUR CODE HERE\n",
    "## FEEL FREE TO ADD MULTIPLE CELLS PER SECTION"
   ]
  },
  {
   "cell_type": "markdown",
   "metadata": {},
   "source": [
    "# Ethics & Privacy"
   ]
  },
  {
   "cell_type": "markdown",
   "metadata": {},
   "source": [
    "* In our research of NBA players' salaries and the contributing factors that affect them, we have several ethical considerations, including biases, privacy, and terms of use . Our datasets may carry biases, such as the representation and data collection methods. For example, they might disproportionately represent star players or those have larger markets, skewing  the analysis towards higher salaries and therefore overlooking players having smaller markets.  Furthermore, the method of data collection and historical context might embed systemic biases into the datasets, such as disparities in pay due to factors unrelated to performance. \n",
    "* To address these challenges, we plan to employ a comprehensive approach to identify potential biases in our datasets. This includes statistical analysis to uncover overrepresentation or underrepresentation of certain groups, cross-referencing data from multiple sources to validate findings, and conducting sensitivity analyses to understand the impact of potential biases on our conclusions. Throughout the research process, we will be careful for biases, continuously assessing our data and methods for any signs of inequity. We will carefully review the terms of use of each dataset to ensure compliance with its guidelines. Our analysis will focus on aggregated data to minimize privacy risks, and any sensitive or potentially identifiable information will be treated with extreme care. We also consider the ethical implications of our findings and how they are communicated to ensure that we do not inadvertently compromise player privacy or misrepresent data.\n",
    "* To ensure a fair analysis, we will strive to include a large variety of players in our research, taking into account variables such as position, tenure, and market size. This inclusivity helps reduce the risk of drawing conclusions that only reflect the experiences of the most visible or highest-paid players. By addressing these ethical issues, we aim to ensure that our research is responsible and produces insights that are not only valuable to understanding the NBA's salary dynamics, but also respect the privacy of the players represented in our dataset."
   ]
  },
  {
   "cell_type": "markdown",
   "metadata": {},
   "source": [
    "# Team Expectations "
   ]
  },
  {
   "cell_type": "markdown",
   "metadata": {},
   "source": [
    "* Open communication between group members; Respond promptly to messages\n",
    "* Input and collaboration from all members on each aspect of the project\n",
    "* Attend all scheduled meetings; Complete work assigned to be completed before meetings\n",
    "* Remain flexible to any necessary changes to scheduling or task assignment\n",
    "* Maintain previously stated ethical standards while working on the project\n",
    "* Maintain high quality of work on all aspects of the project"
   ]
  },
  {
   "cell_type": "markdown",
   "metadata": {},
   "source": [
    "# Project Timeline Proposal"
   ]
  },
  {
   "cell_type": "markdown",
   "metadata": {},
   "source": [
    "| Meeting Date  | Meeting Time| Completed Before Meeting  | Discuss at Meeting |\n",
    "|---|---|---|---|\n",
    "| 2/11  | 12 PM  | Read & Think about COGS 108 expectations; brainstorm topics/questions  | Determine best form of communication; Discuss and decide on final project topic; discuss hypothesis; complete Project Proposal | \n",
    "| 2/18  | 12 PM  |  Finish individual background research on topic; Search for datasets | Discuss ideal dataset(s) and ethics | \n",
    "| 2/25  | 12 PM  | Import & Wrangle Data (Alfernie) | Discuss analytical approaches; Complete Checkpoint #1  |\n",
    "| 3/03  | 12 PM  | EDA (Clarence) | Review/Edit wrangling/EDA; Discuss Analysis Plan   |\n",
    "| 3/10  | 12 PM  | Finalize wrangling/EDA; Begin Analysis (Grace; Brendan) | Discuss/edit Analysis; Complete Checkpoint #2 |\n",
    "| 3/17  | 12 PM  | Complete analysis; Draft results/conclusion/discussion (Ryan)| Discuss/edit full project; Assign final tasks |\n",
    "| 3/20  | 12 PM  | Hopefully full project finished | Turn in Final Project & Group Project Surveys |"
   ]
  }
 ],
 "metadata": {
  "kernelspec": {
   "display_name": "Python 3 (ipykernel)",
   "language": "python",
   "name": "python3"
  },
  "language_info": {
   "codemirror_mode": {
    "name": "ipython",
    "version": 3
   },
   "file_extension": ".py",
   "mimetype": "text/x-python",
   "name": "python",
   "nbconvert_exporter": "python",
   "pygments_lexer": "ipython3",
   "version": "3.10.7"
  }
 },
 "nbformat": 4,
 "nbformat_minor": 2
}
