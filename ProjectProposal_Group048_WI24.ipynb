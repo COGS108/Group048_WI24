{
 "cells": [
  {
   "cell_type": "markdown",
   "metadata": {},
   "source": [
    "# COGS 108 - Project Proposal"
   ]
  },
  {
   "cell_type": "markdown",
   "metadata": {},
   "source": [
    "# Names\n",
    "\n",
    "- Alfernie Fabricante\n",
    "- Clarence Chow\n",
    "- Grace Pei\n",
    "- Brendan Kuang\n",
    "- Ryan Ding"
   ]
  },
  {
   "cell_type": "markdown",
   "metadata": {},
   "source": [
    "# Research Question"
   ]
  },
  {
   "cell_type": "markdown",
   "metadata": {},
   "source": [
    "Over the years, various contributing factors have affected how much NBA players make, whether it be position, points per game, rebounds per game, etc. The game has evolved over time, have the deciding factors in a player's salary changed along with it?"
   ]
  },
  {
   "cell_type": "markdown",
   "metadata": {},
   "source": [
    "## Background and Prior Work"
   ]
  },
  {
   "cell_type": "markdown",
   "metadata": {},
   "source": [
    "Since the 1990s, a massive shift in professional basketball has taken place. Watching an NBA game now versus watching a game from the 90s is like watching two different sports, as the game has evolved in so many ways. There have been new rules that have been implemented regarding defenses, offense, and even an overall shift in how players approach the game. The upper echelon of talent in the NBA will always make a huge salary, but what about everyone else? Getting on to an NBA roster is extremely difficult, only tenths of a percent of basketball players will ever play in the NBA, and those who do have to earn their contracts, and that is typically done by their performance on the court. With the evolving game, different things are valued more and less now versus how they were back then. For example, a big man in the 90s plays completely different and even has a completely different skillset than a big man in the modern version of the game.\n",
    "\n",
    "This study will seek to answer our research question, how have the deciding factors of an NBA player's salary changed over time? To answer this question, we will examine previous research that has been done, and also look at statistics from the 2023-2024 season and player's salaries, as well as previous seasons. For example, A study found on gigasheet <a name=\"cite_ref-1\"></a>[<sup>1</sup>](#cite_note-1) compiiles player statistics from 2022-2023 and their respective salaries. Another factor is the expanding salary cap, as the league has generated record levels of revenue in recent years, and thus player's can earn more. A study from The Hoops Geek <a name=\"cite_ref-2\"></a>[<sup>2</sup>](#cite_note-2) examines NBA salaries and the salary cap from the 1990s til present day. Finally, Hoops Reference<a name=\"cite_ref-3\"></a>[<sup>2</sup>](#cite_note-3) is a staple in the basketball community for any basketball statistics, and will be used to answer our question.\n",
    "\n",
    "1. <a name=\"cite_note-1\"></a> [^](#cite_ref-1) “Performance and Paychecks: NBA Player Stats and Salary Insights for 2022-23: Spreadsheet Download.” Gigasheet, www.gigasheet.com/sample-data/nba-player-salaries-2022-23-season. \n",
    "1. <a name=\"cite_note-2\"></a> [^](#cite_ref-2) Andy. “How Much Do NBA Players Make? Average Salary from 1990-2022.” The Hoops Geek, 2 July 2022, www.thehoopsgeek.com/average-nba-salary/. \n",
    "1. <a name=\"cite_note-3\"></a> [^](#cite_ref-3) “Basketball Statistics & History of Every Team & NBA and WNBA Players.” Basketball, www.basketball-reference.com/. "
   ]
  },
  {
   "cell_type": "markdown",
   "metadata": {},
   "source": [
    "# Hypothesis\n"
   ]
  },
  {
   "cell_type": "markdown",
   "metadata": {},
   "source": [
    "\n",
    "We predict that there is a change in the statistics that influence how much a player will be paid. The modern version of the NBA has placed a large emphasis on jump shooting, specifically from the 3 point line, and we predict that this is a major contributing factor to how much players are paid now, versus how it was not as important back in the 90s, when jumpshots and three pointers were more likely to be seen as \"bad shots.\" Our prediction is that players who are more efficient and shoot a higher volume of three pointers are more likely to earn a higher salary."
   ]
  },
  {
   "cell_type": "markdown",
   "metadata": {},
   "source": [
    "# Data"
   ]
  },
  {
   "cell_type": "markdown",
   "metadata": {},
   "source": [
    "1. Explain what the **ideal** dataset you would want to answer this question. (This should include: What variables? How many observations? Who/what/how would these data be collected? How would these data be stored/organized?)\n",
<<<<<<< HEAD
    "The ideal dataset to answer this question would include historical data going back as far as possible for each individual player, the statlines they accumulate over an NBa season, and their salary. This data would best be stored in a csv file which could then be put into a DataFrame format.\n",
    "1. Search for potential **real** datasets that could provide you with something useful for this project.  You do not have to find every piece of data you will use, but you do need to have demonstrated some idea that (a) this data is gettable and (b) that this data may be different from what your ideal is.\n",
    "https://github.com/erikgregorywebb/datasets/blob/master/nba-salaries.csv This dataset details many player salaries dating back to the year 2000.\n",
    "https://github.com/swar/nba_api/blob/master/docs/nba_api/stats/examples.md This GitHub repository includes an API that allows for easier lookup of NBA players in order to fetch their statistics for later on to match it with the salary in the csv data file"
=======
    "1. Search for potential **real** datasets that could provide you with something useful for this project.  You do not have to find every piece of data you will use, but you do need to have demonstrated some idea that (a) this data is gettable and (b) that this data may be different from what your ideal is.\n",
    "\n",
    "ANSWER: Our ideal dataset would have tabular data in a clean or easily-cleaned form, indexing by player's salary for a given year and containing variables (Columns) with detailed information on shot-statistics (like 3-pointers per game, 2-pointers per game, attempted 3 pointer shots per game, attemped 2 pointer shots per game, etc.), and also game presence (how long were they on court, passes made/received, blocks, assists, etc.). The data for these two types of data will give us the opportunity to do a thorough investigation on our hypothesis or even perhaps come to a different conclusion. \n",
    "\n",
    "Example Data sets we would use are:\n",
    "* https://app.gigasheet.com/spreadsheet/nba-player-salaries-2022-23-season/44656fd5_6281_40aa_a81f_73275250d994\n",
    "* https://runrepeat.com/salary-analysis-in-the-nba-1991-2019\n",
    "* https://www.basketball-reference.com/contracts/players.html"
>>>>>>> 0efc9cc5ac0900f3d6ebf1fdda37f937dd170c6a
   ]
  },
  {
   "cell_type": "markdown",
   "metadata": {},
   "source": [
    "# Ethics & Privacy"
   ]
  },
  {
   "cell_type": "markdown",
   "metadata": {},
   "source": [
    "* In our research of NBA players' salaries and the contributing factors that affect them, we have several ethical considerations, including biases, privacy, and terms of use . Our datasets may carry biases, such as the representation and data collection methods. For example, they might disproportionately represent star players or those have larger markets, skewing  the analysis towards higher salaries and therefore overlooking players having smaller markets.  Furthermore, the method of data collection and historical context might embed systemic biases into the datasets, such as disparities in pay due to factors unrelated to performance. \n",
    "* To address these challenges, we plan to employ a comprehensive approach to identify potential biases in our datasets. This includes statistical analysis to uncover overrepresentation or underrepresentation of certain groups, cross-referencing data from multiple sources to validate findings, and conducting sensitivity analyses to understand the impact of potential biases on our conclusions. Throughout the research process, we will be careful for biases, continuously assessing our data and methods for any signs of inequity. We will carefully review the terms of use of each dataset to ensure compliance with its guidelines. Our analysis will focus on aggregated data to minimize privacy risks, and any sensitive or potentially identifiable information will be treated with extreme care. We also consider the ethical implications of our findings and how they are communicated to ensure that we do not inadvertently compromise player privacy or misrepresent data.\n",
    "* To ensure a fair analysis, we will strive to include a large variety of players in our research, taking into account variables such as position, tenure, and market size. This inclusivity helps reduce the risk of drawing conclusions that only reflect the experiences of the most visible or highest-paid players. By addressing these ethical issues, we aim to ensure that our research is responsible and produces insights that are not only valuable to understanding the NBA's salary dynamics, but also respect the privacy of the players represented in our dataset."
   ]
  },
  {
   "cell_type": "markdown",
   "metadata": {},
   "source": [
    "# Team Expectations "
   ]
  },
  {
   "cell_type": "markdown",
   "metadata": {},
   "source": [
    "\n",
    "* Open communication between group members; Respond promptly to messages\n",
    "* Input and collaboration from all members on each aspect of the project\n",
    "* Attend all scheduled meetings; Complete work assigned to be completed before meetings\n",
    "* Remain flexible to any necessary changes to scheduling or task assignment\n",
    "* Maintain previously stated ethical standards while working on the project\n",
    "* Maintain high quality of work on all aspects of the project\n"
   ]
  },
  {
   "cell_type": "markdown",
   "metadata": {},
   "source": [
    "# Project Timeline Proposal"
   ]
  },
  {
   "cell_type": "markdown",
   "metadata": {},
   "source": [
    "| Meeting Date  | Meeting Time| Completed Before Meeting  | Discuss at Meeting |\n",
    "|---|---|---|---|\n",
    "| 2/11  | 12 PM  | Read & Think about COGS 108 expectations; brainstorm topics/questions  | Determine best form of communication; Discuss and decide on final project topic; discuss hypothesis; complete Project Proposal | \n",
    "| 2/18  | 12 PM  |  Finish individual background research on topic; Search for datasets | Discuss ideal dataset(s) and ethics | \n",
    "| 2/25  | 12 PM  | Import & Wrangle Data (Alfernie) | Discuss analytical approaches; Complete Checkpoint #1  |\n",
    "| 3/03  | 12 PM  | EDA (Clarence) | Review/Edit wrangling/EDA; Discuss Analysis Plan   |\n",
    "| 3/10  | 12 PM  | Finalize wrangling/EDA; Begin Analysis (Grace; Brendan) | Discuss/edit Analysis; Complete Checkpoint #2 |\n",
    "| 3/17  | 12 PM  | Complete analysis; Draft results/conclusion/discussion (Ryan)| Discuss/edit full project; Assign final tasks |\n",
    "| 3/20  | 12 PM  | Hopefully full project finished | Turn in Final Project & Group Project Surveys |"
   ]
  }
 ],
 "metadata": {
  "kernelspec": {
   "display_name": "Python 3 (ipykernel)",
   "language": "python",
   "name": "python3"
  },
  "language_info": {
   "codemirror_mode": {
    "name": "ipython",
    "version": 3
   },
   "file_extension": ".py",
   "mimetype": "text/x-python",
   "name": "python",
   "nbconvert_exporter": "python",
   "pygments_lexer": "ipython3",
   "version": "3.11.5"
  }
 },
 "nbformat": 4,
 "nbformat_minor": 2
}
