{
 "cells": [
  {
   "cell_type": "markdown",
   "metadata": {},
   "source": [
    "# COGS 108 - Project Proposal"
   ]
  },
  {
   "cell_type": "markdown",
   "metadata": {},
   "source": [
    "# Names\n",
    "\n",
    "- Alfernie Fabricante\n",
    "- Clarence Chow\n",
    "- Grace Pei\n",
    "- Brendan Kuang\n",
    "- Ryan Ding"
   ]
  },
  {
   "cell_type": "markdown",
   "metadata": {},
   "source": [
    "# Research Question"
   ]
  },
  {
   "cell_type": "markdown",
   "metadata": {},
   "source": [
    "Which statistic most heavily influences an NBA player's salary at each given position? More specifically, is there some relationship between any single or combination of statistics and the amount in which an NBA player is paid?"
   ]
  },
  {
   "cell_type": "markdown",
   "metadata": {},
   "source": [
    "## Background and Prior Work"
   ]
  },
  {
   "cell_type": "markdown",
   "metadata": {},
   "source": [
    "Since the 1990s, a massive shift in professional basketball has taken place. Watching an NBA game now versus watching a game from the 90s is like watching two different sports, as the game has evolved in so many ways. There have been new rules that have been implemented regarding defenses, offense, and even an overall shift in how players approach the game. The upper echelon of talent in the NBA will always make a huge salary, but what about everyone else? Getting on to an NBA roster is extremely difficult, only tenths of a percent of basketball players will ever play in the NBA, and those who do have to earn their contracts, and that is typically done by their performance on the court. With the evolving game, different things are valued more and less now versus how they were back then. For example, a big man in the 90s plays completely different and even has a completely different skillset than a big man in the modern version of the game.\n",
    "\n",
    "This study will seek to answer our research question, how have the deciding factors of an NBA player's salary changed over time? To answer this question, we will examine previous research that has been done, and also look at statistics from the 2023-2024 season and player's salaries, as well as previous seasons. For example, A study found on gigasheet <a name=\"cite_ref-1\"></a>[<sup>1</sup>](#cite_note-1) compiiles player statistics from 2022-2023 and their respective salaries. Another factor is the expanding salary cap, as the league has generated record levels of revenue in recent years, and thus player's can earn more. A study from The Hoops Geek <a name=\"cite_ref-2\"></a>[<sup>2</sup>](#cite_note-2) examines NBA salaries and the salary cap from the 1990s til present day. Finally, Hoops Reference<a name=\"cite_ref-3\"></a>[<sup>2</sup>](#cite_note-3) is a staple in the basketball community for any basketball statistics, and will be used to answer our question.\n",
    "\n",
    "1. <a name=\"cite_note-1\"></a> [^](#cite_ref-1) “Performance and Paychecks: NBA Player Stats and Salary Insights for 2022-23: Spreadsheet Download.” Gigasheet, www.gigasheet.com/sample-data/nba-player-salaries-2022-23-season. \n",
    "1. <a name=\"cite_note-2\"></a> [^](#cite_ref-2) Andy. “How Much Do NBA Players Make? Average Salary from 1990-2022.” The Hoops Geek, 2 July 2022, www.thehoopsgeek.com/average-nba-salary/. \n",
    "1. <a name=\"cite_note-3\"></a> [^](#cite_ref-3) “Basketball Statistics & History of Every Team & NBA and WNBA Players.” Basketball, www.basketball-reference.com/. "
   ]
  },
  {
   "cell_type": "markdown",
   "metadata": {},
   "source": [
    "# Hypothesis\n"
   ]
  },
  {
   "cell_type": "markdown",
   "metadata": {},
   "source": [
    "We hypothesize that for each NBA position, there is at minimum one feature that contributes heavily to a player's salary.\n",
    "\n",
    "For points guards, we believe that assist-per-game is the most important metric that helps to determine a player's salary. We rationalize this with the belief that since point guards are known for facilitating ball movement around the court, their ability to find other players to score baskets for them makes them valuable.\n",
    "\n",
    "For shooting guards, we think that 3-point-percentage, or the percentage of shots made from behind the 3-point line, is the most important metric that determines a player's salary. This is because the position is geared towards scoring as many points as possible, and teams would want someone who is efficient in their shots and able to score from many positions on the floor.\n",
    "\n",
    "For small forwards, we believe that their points-per-game is the most important metric in determining their salary. As the most versatile position on the floor, their overall scoring ability, from jumpshots to three-pointers, seems to be the most valued.\n",
    "\n",
    "For power forwards, we claim that their field-goal-percentage is the most important factor in their salary. Playing closer to the basket, power forwards are notable for taking many jumpshots closer to the basket than that of their guard teammates. As a result, efficiency in these closer-range shots is kept most notable as it shows their offensive prowess at closer range than a shooting guard.\n",
    "\n",
    "For centers, we believe that there are two metrics of equal importance: blocks-per-game and rebounds-per-game. Centers are known for being the tallest person on the floor and the most inclined to grab missed shots or block an opponent from scoring on their basket. As a result, both of these features are highly sought after from centers."
   ]
  },
  {
   "cell_type": "markdown",
   "metadata": {},
   "source": [
    "# Data"
   ]
  },
  {
   "cell_type": "markdown",
   "metadata": {},
   "source": [
    "Our ideal dataset would have tabular data in a clean or easily-cleaned form, indexing by player's salary for a given year and containing variables (Columns) with detailed information on shot-statistics (like 3-pointers per game, 2-pointers per game, attempted 3 pointer shots per game, attemped 2 pointer shots per game, etc.), and also game presence (how long were they on court, passes made/received, blocks, assists, etc.). The data for these two types of data will give us the opportunity to do a thorough investigation on our hypothesis or even perhaps come to a different conclusion. \n",
    "\n",
    "Example Data sets we would use are:\n",
    "* https://app.gigasheet.com/spreadsheet/nba-player-salaries-2022-23-season/44656fd5_6281_40aa_a81f_73275250d994\n",
    "* https://github.com/erikgregorywebb/datasets/blob/master/nba-salaries.csv \n",
    "\n",
    "Example tools/APIs we would use are:\n",
    "* https://github.com/swar/nba_api/blob/master/docs/nba_api/stats/examples.md - This GitHub repository includes an API that allows for easier lookup of NBA players in order to fetch their statistics for later on to match it with the salary in the csv data file!"
   ]
  },
  {
   "cell_type": "markdown",
   "metadata": {},
   "source": [
    "# Ethics & Privacy"
   ]
  },
  {
   "cell_type": "markdown",
   "metadata": {},
   "source": [
    "* In our research of NBA players' salaries and the contributing factors that affect them, we have several ethical considerations, including biases, privacy, and terms of use . Our datasets may carry biases, such as the representation and data collection methods. For example, they might disproportionately represent star players or those have larger markets, skewing  the analysis towards higher salaries and therefore overlooking players having smaller markets.  Furthermore, the method of data collection and historical context might embed systemic biases into the datasets, such as disparities in pay due to factors unrelated to performance. \n",
    "* To address these challenges, we plan to employ a comprehensive approach to identify potential biases in our datasets. This includes statistical analysis to uncover overrepresentation or underrepresentation of certain groups, cross-referencing data from multiple sources to validate findings, and conducting sensitivity analyses to understand the impact of potential biases on our conclusions. Throughout the research process, we will be careful for biases, continuously assessing our data and methods for any signs of inequity. We will carefully review the terms of use of each dataset to ensure compliance with its guidelines. Our analysis will focus on aggregated data to minimize privacy risks, and any sensitive or potentially identifiable information will be treated with extreme care. We also consider the ethical implications of our findings and how they are communicated to ensure that we do not inadvertently compromise player privacy or misrepresent data.\n",
    "* To ensure a fair analysis, we will strive to include a large variety of players in our research, taking into account variables such as position, tenure, and market size. This inclusivity helps reduce the risk of drawing conclusions that only reflect the experiences of the most visible or highest-paid players. By addressing these ethical issues, we aim to ensure that our research is responsible and produces insights that are not only valuable to understanding the NBA's salary dynamics, but also respect the privacy of the players represented in our dataset."
   ]
  },
  {
   "cell_type": "markdown",
   "metadata": {},
   "source": [
    "# Team Expectations "
   ]
  },
  {
   "cell_type": "markdown",
   "metadata": {},
   "source": [
    "* Open communication between group members; Respond promptly to messages\n",
    "* Input and collaboration from all members on each aspect of the project\n",
    "* Attend all scheduled meetings; Complete work assigned to be completed before meetings\n",
    "* Remain flexible to any necessary changes to scheduling or task assignment\n",
    "* Maintain previously stated ethical standards while working on the project\n",
    "* Maintain high quality of work on all aspects of the project"
   ]
  },
  {
   "cell_type": "markdown",
   "metadata": {},
   "source": [
    "# Project Timeline Proposal"
   ]
  },
  {
   "cell_type": "markdown",
   "metadata": {},
   "source": [
    "| Meeting Date  | Meeting Time| Completed Before Meeting  | Discuss at Meeting |\n",
    "|---|---|---|---|\n",
    "| 2/11  | 12 PM  | Read & Think about COGS 108 expectations; brainstorm topics/questions  | Determine best form of communication; Discuss and decide on final project topic; discuss hypothesis; complete Project Proposal | \n",
    "| 2/18  | 12 PM  |  Finish individual background research on topic; Search for datasets | Discuss ideal dataset(s) and ethics | \n",
    "| 2/25  | 12 PM  | Import & Wrangle Data (Alfernie) | Discuss analytical approaches; Complete Checkpoint #1  |\n",
    "| 3/03  | 12 PM  | EDA (Clarence) | Review/Edit wrangling/EDA; Discuss Analysis Plan   |\n",
    "| 3/10  | 12 PM  | Finalize wrangling/EDA; Begin Analysis (Grace; Brendan) | Discuss/edit Analysis; Complete Checkpoint #2 |\n",
    "| 3/17  | 12 PM  | Complete analysis; Draft results/conclusion/discussion (Ryan)| Discuss/edit full project; Assign final tasks |\n",
    "| 3/20  | 12 PM  | Hopefully full project finished | Turn in Final Project & Group Project Surveys |"
   ]
  }
 ],
 "metadata": {
  "kernelspec": {
   "display_name": "Python 3 (ipykernel)",
   "language": "python",
   "name": "python3"
  },
  "language_info": {
   "codemirror_mode": {
    "name": "ipython",
    "version": 3
   },
   "file_extension": ".py",
   "mimetype": "text/x-python",
   "name": "python",
   "nbconvert_exporter": "python",
   "pygments_lexer": "ipython3",
   "version": "3.11.5"
  }
 },
 "nbformat": 4,
 "nbformat_minor": 2
}
