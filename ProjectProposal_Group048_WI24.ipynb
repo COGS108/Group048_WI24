{
 "cells": [
  {
   "cell_type": "markdown",
   "metadata": {},
   "source": [
    "# COGS 108 - Project Proposal"
   ]
  },
  {
   "cell_type": "markdown",
   "metadata": {},
   "source": [
    "# Names\n",
    "\n",
    "- Alfernie Fabricante\n",
    "- Clarence Chow\n",
    "- Grace Pei\n",
    "- Brendan Kuang\n",
    "- Ryan Ding"
   ]
  },
  {
   "cell_type": "markdown",
   "metadata": {},
   "source": [
    "# Research Question"
   ]
  },
  {
   "cell_type": "markdown",
   "metadata": {},
   "source": [
    "Over the years, various contributing factors have affected how much NBA players make, whether it be position, points per game, rebounds per game, etc. The game has evolved over time, have the deciding factors in a player's salary changed along with it?\n",
    "\n"
   ]
  },
  {
   "cell_type": "markdown",
   "metadata": {},
   "source": [
    "## Background and Prior Work"
   ]
  },
  {
   "cell_type": "markdown",
   "metadata": {},
   "source": [
    "Since the 1990s, a massive shift in professional basketball has taken place. Watching an NBA game now versus watching a game from the 90s is like watching two different sports, as the game has evolved in so many ways. There have been new rules that have been implemented regarding defenses, offense, and even an overall shift in how players approach the game. The upper echelon of talent in the NBA will always make a huge salary, but what about everyone else? Getting on to an NBA roster is extremely difficult, only tenths of a percent of basketball players will ever play in the NBA, and those who do have to earn their contracts, and that is typically done by their performance on the court. With the evolving game, different things are valued more and less now versus how they were back then. For example, a big man in the 90s plays completely different and even has a completely different skillset than a big man in the modern version of the game.\n",
    "\n",
    "This study will seek to answer our research question, how have the deciding factors of an NBA player's salary changed over time? To answer this question, we will examine previous research that has been done, and also look at statistics from the 2023-2024 season and player's salaries, as well as previous seasons. For example, A study found on gigasheet <a name=\"cite_ref-1\"></a>[<sup>1</sup>](#cite_note-1) compiiles player statistics from 2022-2023 and their respective salaries. Another factor is the expanding salary cap, as the league has generated record levels of revenue in recent years, and thus player's can earn more. A study from The Hoops Geek <a name=\"cite_ref-2\"></a>[<sup>2</sup>](#cite_note-2) examines NBA salaries and the salary cap from the 1990s til present day. Finally, Hoops Reference<a name=\"cite_ref-3\"></a>[<sup>2</sup>](#cite_note-3) is a staple in the basketball community for any basketball statistics, and will be used to answer our question.\n",
    "\n",
    "1. <a name=\\\"cite_note-1\\\"></a> [^](#cite_ref-1) “Performance and Paychecks: NBA Player Stats and Salary Insights for 2022-23: Spreadsheet Download.” Gigasheet, www.gigasheet.com/sample-data/nba-player-salaries-2022-23-season. \n",
    "2. <a name=\\\"cite_note-2\\\"></a> [^](#cite_ref-2) Andy. “How Much Do NBA Players Make? Average Salary from 1990-2022.” The Hoops Geek, 2 July 2022, www.thehoopsgeek.com/average-nba-salary/. \n",
    "3. <a name=\\\"cite_note-3\\\"></a> [^](#cite_ref-3) “Basketball Statistics & History of Every Team & NBA and WNBA Players.” Basketball, www.basketball-reference.com/. "
   ]
  },
  {
   "cell_type": "markdown",
   "metadata": {},
   "source": [
    "# Hypothesis\n"
   ]
  },
  {
   "cell_type": "markdown",
   "metadata": {},
   "source": [
    "\n",
    "- Include your team's hypothesis\n",
    "- Ensure that this hypothesis is clear to readers\n",
    "- Explain why you think this will be the outcome (what was your thinking?)\n",
    "\n",
    "What is your main hypothesis/predictions about what the answer to your question is? Briefly explain your thinking. (2-3 sentences)"
   ]
  },
  {
   "cell_type": "markdown",
   "metadata": {},
   "source": [
    "# Data"
   ]
  },
  {
   "cell_type": "markdown",
   "metadata": {},
   "source": [
    "1. Explain what the **ideal** dataset you would want to answer this question. (This should include: What variables? How many observations? Who/what/how would these data be collected? How would these data be stored/organized?)\n",
    "1. Search for potential **real** datasets that could provide you with something useful for this project.  You do not have to find every piece of data you will use, but you do need to have demonstrated some idea that (a) this data is gettable and (b) that this data may be different from what your ideal is."
   ]
  },
  {
   "cell_type": "markdown",
   "metadata": {},
   "source": [
    "# Ethics & Privacy"
   ]
  },
  {
   "cell_type": "markdown",
   "metadata": {},
   "source": [
    "- Thoughtful discussion of ethical concerns included\n",
    "- Ethical concerns consider the whole data science process (question asked, data collected, data being used, the bias in data, analysis, post-analysis, etc.)\n",
    "- How your group handled bias/ethical concerns clearly described\n",
    "\n",
    "Acknowledge and address any ethics & privacy related issues of your question(s), proposed dataset(s), and/or analyses. Use the information provided in lecture to guide your group discussion and thinking. If you need further guidance, check out [Deon's Ethics Checklist](http://deon.drivendata.org/#data-science-ethics-checklist). In particular:\n",
    "\n",
    "- Are there any biases/privacy/terms of use issues with the data you propsed?\n",
    "- Are there potential biases in your dataset(s), in terms of who it composes, and how it was collected, that may be problematic in terms of it allowing for equitable analysis? (For example, does your data exclude particular populations, or is it likely to reflect particular human biases in a way that could be a problem?)\n",
    "- How will you set out to detect these specific biases before, during, and after/when communicating your analysis?\n",
    "- Are there any other issues related to your topic area, data, and/or analyses that are potentially problematic in terms of data privacy and equitable impact?\n",
    "- How will you handle issues you identified?"
   ]
  },
  {
   "cell_type": "markdown",
   "metadata": {},
   "source": [
    "# Team Expectations "
   ]
  },
  {
   "cell_type": "markdown",
   "metadata": {},
   "source": [
    "\n",
    "* Open communication between group members; Respond promptly to messages\n",
    "* Input and collaboration from all members on each aspect of the project\n",
    "* Attend all scheduled meetings; Complete work assigned to be completed before meetings\n",
    "* Remain flexible to any necessary changes to scheduling or task assignment\n",
    "* Maintain previously stated ethical standards while working on the project\n",
    "* Maintain high quality of work on all aspects of the project\n"
   ]
  },
  {
   "cell_type": "markdown",
   "metadata": {},
   "source": [
    "# Project Timeline Proposal"
   ]
  },
  {
   "cell_type": "markdown",
   "metadata": {},
   "source": [
    "| Meeting Date  | Meeting Time| Completed Before Meeting  | Discuss at Meeting |\n",
    "|---|---|---|---|\n",
    "| 2/11  | 12 PM  | Read & Think about COGS 108 expectations; brainstorm topics/questions  | Determine best form of communication; Discuss and decide on final project topic; discuss hypothesis; complete Project Proposal | \n",
    "| 2/18  | 12 PM  |  Finish individual background research on topic; Search for datasets | Discuss ideal dataset(s) and ethics | \n",
    "| 2/25  | 12 PM  | Import & Wrangle Data (Alfernie) | Discuss analytical approaches; Complete Checkpoint #1  |\n",
    "| 3/03  | 12 PM  | EDA (Clarence) | Review/Edit wrangling/EDA; Discuss Analysis Plan   |\n",
    "| 3/10  | 12 PM  | Finalize wrangling/EDA; Begin Analysis (Grace; Brendan) | Discuss/edit Analysis; Complete Checkpoint #2 |\n",
    "| 3/17  | 12 PM  | Complete analysis; Draft results/conclusion/discussion (Ryan)| Discuss/edit full project; Assign final tasks |\n",
    "| 3/20  | 12 PM  | Hopefully full project finished | Turn in Final Project & Group Project Surveys |"
   ]
  }
 ],
 "metadata": {
  "kernelspec": {
   "display_name": "Python 3 (ipykernel)",
   "language": "python",
   "name": "python3"
  },
  "language_info": {
   "codemirror_mode": {
    "name": "ipython",
    "version": 3
   },
   "file_extension": ".py",
   "mimetype": "text/x-python",
   "name": "python",
   "nbconvert_exporter": "python",
   "pygments_lexer": "ipython3",
   "version": "3.9.7"
  }
 },
 "nbformat": 4,
 "nbformat_minor": 2
}
